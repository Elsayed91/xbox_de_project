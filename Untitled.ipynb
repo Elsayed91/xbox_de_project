{
 "cells": [
  {
   "cell_type": "code",
   "execution_count": 2,
   "id": "cc9286e6",
   "metadata": {},
   "outputs": [
    {
     "name": "stdout",
     "output_type": "stream",
     "text": [
      "Requirement already satisfied: pandas in /home/lestrang/.local/share/virtualenvs/xbox_project-0MjgK-sr/lib/python3.10/site-packages (1.5.3)\n",
      "Requirement already satisfied: python-dateutil>=2.8.1 in /home/lestrang/.local/share/virtualenvs/xbox_project-0MjgK-sr/lib/python3.10/site-packages (from pandas) (2.8.2)\n",
      "Requirement already satisfied: pytz>=2020.1 in /home/lestrang/.local/share/virtualenvs/xbox_project-0MjgK-sr/lib/python3.10/site-packages (from pandas) (2022.7.1)\n",
      "Requirement already satisfied: numpy>=1.21.0 in /home/lestrang/.local/share/virtualenvs/xbox_project-0MjgK-sr/lib/python3.10/site-packages (from pandas) (1.24.2)\n",
      "Requirement already satisfied: six>=1.5 in /home/lestrang/.local/share/virtualenvs/xbox_project-0MjgK-sr/lib/python3.10/site-packages (from python-dateutil>=2.8.1->pandas) (1.16.0)\n",
      "\n",
      "\u001b[1m[\u001b[0m\u001b[34;49mnotice\u001b[0m\u001b[1;39;49m]\u001b[0m\u001b[39;49m A new release of pip is available: \u001b[0m\u001b[31;49m23.0\u001b[0m\u001b[39;49m -> \u001b[0m\u001b[32;49m23.0.1\u001b[0m\n",
      "\u001b[1m[\u001b[0m\u001b[34;49mnotice\u001b[0m\u001b[1;39;49m]\u001b[0m\u001b[39;49m To update, run: \u001b[0m\u001b[32;49mpip install --upgrade pip\u001b[0m\n",
      "Requirement already satisfied: google-cloud-storage in /home/lestrang/.local/share/virtualenvs/xbox_project-0MjgK-sr/lib/python3.10/site-packages (2.7.0)\n",
      "Requirement already satisfied: requests<3.0.0dev,>=2.18.0 in /home/lestrang/.local/share/virtualenvs/xbox_project-0MjgK-sr/lib/python3.10/site-packages (from google-cloud-storage) (2.28.2)\n",
      "Requirement already satisfied: google-api-core!=2.0.*,!=2.1.*,!=2.2.*,!=2.3.0,<3.0.0dev,>=1.31.5 in /home/lestrang/.local/share/virtualenvs/xbox_project-0MjgK-sr/lib/python3.10/site-packages (from google-cloud-storage) (2.11.0)\n",
      "Requirement already satisfied: google-auth<3.0dev,>=1.25.0 in /home/lestrang/.local/share/virtualenvs/xbox_project-0MjgK-sr/lib/python3.10/site-packages (from google-cloud-storage) (2.16.2)\n",
      "Requirement already satisfied: google-cloud-core<3.0dev,>=2.3.0 in /home/lestrang/.local/share/virtualenvs/xbox_project-0MjgK-sr/lib/python3.10/site-packages (from google-cloud-storage) (2.3.2)\n",
      "Requirement already satisfied: google-resumable-media>=2.3.2 in /home/lestrang/.local/share/virtualenvs/xbox_project-0MjgK-sr/lib/python3.10/site-packages (from google-cloud-storage) (2.4.1)\n",
      "Requirement already satisfied: protobuf!=3.20.0,!=3.20.1,!=4.21.0,!=4.21.1,!=4.21.2,!=4.21.3,!=4.21.4,!=4.21.5,<5.0.0dev,>=3.19.5 in /home/lestrang/.local/share/virtualenvs/xbox_project-0MjgK-sr/lib/python3.10/site-packages (from google-api-core!=2.0.*,!=2.1.*,!=2.2.*,!=2.3.0,<3.0.0dev,>=1.31.5->google-cloud-storage) (4.22.0)\n",
      "Requirement already satisfied: googleapis-common-protos<2.0dev,>=1.56.2 in /home/lestrang/.local/share/virtualenvs/xbox_project-0MjgK-sr/lib/python3.10/site-packages (from google-api-core!=2.0.*,!=2.1.*,!=2.2.*,!=2.3.0,<3.0.0dev,>=1.31.5->google-cloud-storage) (1.58.0)\n",
      "Requirement already satisfied: pyasn1-modules>=0.2.1 in /home/lestrang/.local/share/virtualenvs/xbox_project-0MjgK-sr/lib/python3.10/site-packages (from google-auth<3.0dev,>=1.25.0->google-cloud-storage) (0.2.8)\n",
      "Requirement already satisfied: six>=1.9.0 in /home/lestrang/.local/share/virtualenvs/xbox_project-0MjgK-sr/lib/python3.10/site-packages (from google-auth<3.0dev,>=1.25.0->google-cloud-storage) (1.16.0)\n",
      "Requirement already satisfied: cachetools<6.0,>=2.0.0 in /home/lestrang/.local/share/virtualenvs/xbox_project-0MjgK-sr/lib/python3.10/site-packages (from google-auth<3.0dev,>=1.25.0->google-cloud-storage) (5.3.0)\n",
      "Requirement already satisfied: rsa<5,>=3.1.4 in /home/lestrang/.local/share/virtualenvs/xbox_project-0MjgK-sr/lib/python3.10/site-packages (from google-auth<3.0dev,>=1.25.0->google-cloud-storage) (4.9)\n",
      "Requirement already satisfied: google-crc32c<2.0dev,>=1.0 in /home/lestrang/.local/share/virtualenvs/xbox_project-0MjgK-sr/lib/python3.10/site-packages (from google-resumable-media>=2.3.2->google-cloud-storage) (1.5.0)\n",
      "Requirement already satisfied: certifi>=2017.4.17 in /home/lestrang/.local/share/virtualenvs/xbox_project-0MjgK-sr/lib/python3.10/site-packages (from requests<3.0.0dev,>=2.18.0->google-cloud-storage) (2022.12.7)\n",
      "Requirement already satisfied: urllib3<1.27,>=1.21.1 in /home/lestrang/.local/share/virtualenvs/xbox_project-0MjgK-sr/lib/python3.10/site-packages (from requests<3.0.0dev,>=2.18.0->google-cloud-storage) (1.26.14)\n",
      "Requirement already satisfied: idna<4,>=2.5 in /home/lestrang/.local/share/virtualenvs/xbox_project-0MjgK-sr/lib/python3.10/site-packages (from requests<3.0.0dev,>=2.18.0->google-cloud-storage) (3.4)\n",
      "Requirement already satisfied: charset-normalizer<4,>=2 in /home/lestrang/.local/share/virtualenvs/xbox_project-0MjgK-sr/lib/python3.10/site-packages (from requests<3.0.0dev,>=2.18.0->google-cloud-storage) (3.0.1)\n",
      "Requirement already satisfied: pyasn1<0.5.0,>=0.4.6 in /home/lestrang/.local/share/virtualenvs/xbox_project-0MjgK-sr/lib/python3.10/site-packages (from pyasn1-modules>=0.2.1->google-auth<3.0dev,>=1.25.0->google-cloud-storage) (0.4.8)\n",
      "\n",
      "\u001b[1m[\u001b[0m\u001b[34;49mnotice\u001b[0m\u001b[1;39;49m]\u001b[0m\u001b[39;49m A new release of pip is available: \u001b[0m\u001b[31;49m23.0\u001b[0m\u001b[39;49m -> \u001b[0m\u001b[32;49m23.0.1\u001b[0m\n",
      "\u001b[1m[\u001b[0m\u001b[34;49mnotice\u001b[0m\u001b[1;39;49m]\u001b[0m\u001b[39;49m To update, run: \u001b[0m\u001b[32;49mpip install --upgrade pip\u001b[0m\n"
     ]
    }
   ],
   "source": [
    "! pip install pandas && pip install google-cloud-storage"
   ]
  },
  {
   "cell_type": "code",
   "execution_count": 4,
   "id": "e920a495",
   "metadata": {},
   "outputs": [
    {
     "ename": "ModuleNotFoundError",
     "evalue": "No module named 'google'",
     "output_type": "error",
     "traceback": [
      "\u001b[0;31m---------------------------------------------------------------------------\u001b[0m",
      "\u001b[0;31mModuleNotFoundError\u001b[0m                       Traceback (most recent call last)",
      "Cell \u001b[0;32mIn[4], line 1\u001b[0m\n\u001b[0;32m----> 1\u001b[0m \u001b[38;5;28;01mfrom\u001b[39;00m \u001b[38;5;21;01mgoogle\u001b[39;00m\u001b[38;5;21;01m.\u001b[39;00m\u001b[38;5;21;01mcloud\u001b[39;00m \u001b[38;5;28;01mimport\u001b[39;00m storage\n\u001b[1;32m      3\u001b[0m \u001b[38;5;66;03m# Initialize a client\u001b[39;00m\n\u001b[1;32m      4\u001b[0m client \u001b[38;5;241m=\u001b[39m storage\u001b[38;5;241m.\u001b[39mClient()\n",
      "\u001b[0;31mModuleNotFoundError\u001b[0m: No module named 'google'"
     ]
    }
   ],
   "source": [
    "import pandas as pd\n",
    "from google.cloud import storage\n",
    "\n",
    "# Initialize a client\n",
    "client = storage.Client()\n",
    "\n",
    "# Get the bucket and file paths\n",
    "bucket_name = \"raw-103kdj49klf22k\"\n",
    "file_path = \"metacritic/xbox-critic-reviews.csv\"\n",
    "\n",
    "# Get the bucket and file objects\n",
    "bucket = client.get_bucket(bucket_name)\n",
    "blob = bucket.blob(file_path)\n",
    "\n",
    "# Download the file contents as a string\n",
    "content = blob.download_as_string().decode(\"utf-8\")\n",
    "\n",
    "# Convert the string into a pandas dataframe\n",
    "df = pd.read_csv(pd.compat.StringIO(content))\n",
    "\n",
    "# Print the dataframe\n",
    "print(df)"
   ]
  },
  {
   "cell_type": "code",
   "execution_count": null,
   "id": "1aded2ad",
   "metadata": {},
   "outputs": [],
   "source": []
  },
  {
   "cell_type": "code",
   "execution_count": null,
   "id": "b3cdfcc1",
   "metadata": {},
   "outputs": [],
   "source": []
  }
 ],
 "metadata": {
  "kernelspec": {
   "display_name": "Python 3 (ipykernel)",
   "language": "python",
   "name": "python3"
  },
  "language_info": {
   "codemirror_mode": {
    "name": "ipython",
    "version": 3
   },
   "file_extension": ".py",
   "mimetype": "text/x-python",
   "name": "python",
   "nbconvert_exporter": "python",
   "pygments_lexer": "ipython3",
   "version": "3.9.2"
  }
 },
 "nbformat": 4,
 "nbformat_minor": 5
}
